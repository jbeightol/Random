{
 "cells": [
  {
   "cell_type": "markdown",
   "metadata": {},
   "source": [
    "For my capstone I scraped 12,000 tweets from the New York Times, Washington Post, Mashable, and Buzzfeed.  "
   ]
  },
  {
   "cell_type": "code",
   "execution_count": 4,
   "metadata": {
    "collapsed": false
   },
   "outputs": [
    {
     "data": {
      "text/html": [
       "\n",
       "<div class='tableauPlaceholder' id='viz1488366220658' style='position: relative'><noscript><a href='#'><img alt='Feature Importance for Re-Tweets ' src='https:&#47;&#47;public.tableau.com&#47;static&#47;images&#47;Ca&#47;CapstoneFeatureImportance&#47;Sheet14&#47;1_rss.png' style='border: none' /></a></noscript><object class='tableauViz'  style='display:none;'><param name='host_url' value='https%3A%2F%2Fpublic.tableau.com%2F' /> <param name='site_root' value='' /><param name='name' value='CapstoneFeatureImportance&#47;Sheet14' /><param name='tabs' value='no' /><param name='toolbar' value='yes' /><param name='static_image' value='https:&#47;&#47;public.tableau.com&#47;static&#47;images&#47;Ca&#47;CapstoneFeatureImportance&#47;Sheet14&#47;1.png' /> <param name='animate_transition' value='yes' /><param name='display_static_image' value='yes' /><param name='display_spinner' value='yes' /><param name='display_overlay' value='yes' /><param name='display_count' value='yes' /></object></div>                <script type='text/javascript'>                    var divElement = document.getElementById('viz1488366220658');                    var vizElement = divElement.getElementsByTagName('object')[0];                    vizElement.style.width='100%';vizElement.style.height=(divElement.offsetWidth*0.75)+'px';                    var scriptElement = document.createElement('script');                    scriptElement.src = 'https://public.tableau.com/javascripts/api/viz_v1.js';                    vizElement.parentNode.insertBefore(scriptElement, vizElement);                </script>"
      ],
      "text/plain": [
       "<IPython.core.display.HTML object>"
      ]
     },
     "metadata": {},
     "output_type": "display_data"
    }
   ],
   "source": [
    "%%html\n",
    "<div class='tableauPlaceholder' id='viz1488366220658' style='position: relative'><noscript><a href='#'><img alt='Feature Importance for Re-Tweets ' src='https:&#47;&#47;public.tableau.com&#47;static&#47;images&#47;Ca&#47;CapstoneFeatureImportance&#47;Sheet14&#47;1_rss.png' style='border: none' /></a></noscript><object class='tableauViz'  style='display:none;'><param name='host_url' value='https%3A%2F%2Fpublic.tableau.com%2F' /> <param name='site_root' value='' /><param name='name' value='CapstoneFeatureImportance&#47;Sheet14' /><param name='tabs' value='no' /><param name='toolbar' value='yes' /><param name='static_image' value='https:&#47;&#47;public.tableau.com&#47;static&#47;images&#47;Ca&#47;CapstoneFeatureImportance&#47;Sheet14&#47;1.png' /> <param name='animate_transition' value='yes' /><param name='display_static_image' value='yes' /><param name='display_spinner' value='yes' /><param name='display_overlay' value='yes' /><param name='display_count' value='yes' /></object></div>                <script type='text/javascript'>                    var divElement = document.getElementById('viz1488366220658');                    var vizElement = divElement.getElementsByTagName('object')[0];                    vizElement.style.width='100%';vizElement.style.height=(divElement.offsetWidth*0.75)+'px';                    var scriptElement = document.createElement('script');                    scriptElement.src = 'https://public.tableau.com/javascripts/api/viz_v1.js';                    vizElement.parentNode.insertBefore(scriptElement, vizElement);                </script>"
   ]
  },
  {
   "cell_type": "markdown",
   "metadata": {
    "collapsed": true
   },
   "source": [
    "Below is the mean polarity across my news sources "
   ]
  },
  {
   "cell_type": "code",
   "execution_count": 62,
   "metadata": {
    "collapsed": false
   },
   "outputs": [
    {
     "data": {
      "image/png": "[encoded data removed]",
      "text/plain": [
       "<matplotlib.figure.Figure at 0x12904d6d0>"
      ]
     },
     "metadata": {},
     "output_type": "display_data"
    }
   ],
   "source": [
    "sns.barplot(x = 'handle', y = 'polarity', data = tweet)\n",
    "plt.show()"
   ]
  },
  {
   "cell_type": "code",
   "execution_count": 46,
   "metadata": {
    "collapsed": false
   },
   "outputs": [
    {
     "name": "stdout",
     "output_type": "stream",
     "text": [
      "0.715\n",
      "      0     1\n",
      "0  1141   393\n",
      "1   462  1004\n",
      "             precision    recall  f1-score   support\n",
      "\n",
      "          0       0.71      0.74      0.73      1534\n",
      "          1       0.72      0.68      0.70      1466\n",
      "\n",
      "avg / total       0.72      0.71      0.71      3000\n",
      "\n"
     ]
    }
   ],
   "source": [
    "run_model(pipelineBNB5, Xtt5_train, Xtt5_test, ytt5_train, ytt5_test)"
   ]
  },
  {
   "cell_type": "code",
   "execution_count": null,
   "metadata": {
    "collapsed": true
   },
   "outputs": [],
   "source": [
    "\n",
    "class twitterminer():\n",
    "\n",
    "    request_limit   =   20    \n",
    "    api             =   False\n",
    "    data            =   []\n",
    "    \n",
    "    twitter_keys = {\n",
    "        'consumer_key':        'bejMZ1a23iilm782o1ZtlsY80',\n",
    "        'consumer_secret':     '4whnR4YlZFooqGgiUOxf0BY454Bd9nEbDcfHwRQ6LMxnnS9SdA',\n",
    "        'access_token_key':    '3314826759-P8IrjCXKEd7w2mKMQ1O3wyDHv3yJXZc2tks0UXl',\n",
    "        'access_token_secret': 'zIfE0Wesx9ptYlrjmVgkLVG1WrAS5El7I79meC5rsCGLG'\n",
    "    }\n",
    "    \n",
    "    def __init__(self,  request_limit = 20):\n",
    "        \n",
    "        self.request_limit = request_limit\n",
    "        \n",
    "        # This sets the twitter API object for use internall within the class\n",
    "        self.set_api()\n",
    "        \n",
    "    def set_api(self):\n",
    "        \n",
    "        self.api = twitter.Api(\n",
    "            consumer_key         =   self.twitter_keys['consumer_key'],\n",
    "            consumer_secret      =   self.twitter_keys['consumer_secret'],\n",
    "            access_token_key     =   self.twitter_keys['access_token_key'],\n",
    "            access_token_secret  =   self.twitter_keys['access_token_secret']\n",
    "        )\n",
    "\n",
    "    def mine_user_tweets(self, user=\"mashable\", mine_retweets=False, max_id=None):\n",
    "\n",
    "        statuses   =   self.api.GetUserTimeline(screen_name=user, count=self.request_limit, max_id=max_id)\n",
    "        data       =   []\n",
    "        \n",
    "        for item in statuses:\n",
    "\n",
    "            mined = {\n",
    "                'tweet_id': item.id,\n",
    "                'handle': item.user.name,\n",
    "                'retweet_count': item.retweet_count,\n",
    "                'text': item.text,\n",
    "                'mined_at': datetime.datetime.now(),\n",
    "                'created_at': item.created_at,\n",
    "            }\n",
    "            \n",
    "            data.append(mined)\n",
    "            \n",
    "        return data"
   ]
  },
  {
   "cell_type": "code",
   "execution_count": 47,
   "metadata": {
    "collapsed": true
   },
   "outputs": [],
   "source": [
    "def run_model(model, x_train, x_test, y_train, y_test):\n",
    "    model.fit(x_train, y_train)\n",
    "    y_preds = model.predict(x_test)\n",
    "    conmat_1 = confusion_matrix(y_test, y_preds, labels=model.classes_)\n",
    "    conmat_1 = pd.DataFrame(conmat_1, columns=model.classes_, index=model.classes_)\n",
    "    print(accuracy_score(y_test,y_preds))\n",
    "    print(conmat_1)\n",
    "    print(classification_report(y_test,y_preds))\n",
    "    #return (accuracy_score(y_test,y_preds), (conmat_1), classification_report(y_test,y_preds))\n",
    "    \n",
    "def eval_model(model, x_test, y_true):\n",
    "    y_pred = model.predict(x_test)\n",
    "    conmat_1 = confusion_matrix(y_true, y_pred, labels=model.classes_)\n",
    "    conmat_1 = pd.DataFrame(conmat_1, columns=model.classes_, index=model.classes_)\n",
    "    print(accuracy_score(y_true,y_pred))\n",
    "    print(conmat_1)\n",
    "    print(classification_report(y_true,y_pred ))\n",
    "    \n",
    "def log_get_co(model, X):\n",
    "    coeffs = pd.DataFrame(model.coef_, columns = X.columns)\n",
    "    coeffs = coeffs.transpose()\n",
    "    coeffs.columns = ['Coefficient']\n",
    "    coeffs_t = pd.DataFrame(model.coef_, columns = X.columns)\n",
    "    coeffs_t = coeffs_t.transpose()\n",
    "    coeffs_t.columns = ['Abs_Coefficient']\n",
    "    cos = pd.concat([coeffs, coeffs_t], axis=1)\n",
    "    cos['Abs_Coefficient'] = cos['Abs_Coefficient'].abs()\n",
    "    return cos.sort_values('Abs_Coefficient', ascending=False)"
   ]
  },
  {
   "cell_type": "code",
   "execution_count": null,
   "metadata": {
    "collapsed": true
   },
   "outputs": [],
   "source": []
  },
  {
   "cell_type": "code",
   "execution_count": null,
   "metadata": {
    "collapsed": true
   },
   "outputs": [],
   "source": [
    "pipelineBNB5 = Pipeline([\n",
    "    ('vect', TfidfVectorizer(ngram_range=(1,3), stop_words=stop_words)),\n",
    "    ('tfidf', TfidfTransformer()),\n",
    "    ('cls', BernoulliNB())])"
   ]
  },
  {
   "cell_type": "code",
   "execution_count": 48,
   "metadata": {
    "collapsed": false
   },
   "outputs": [
    {
     "name": "stdout",
     "output_type": "stream",
     "text": [
      "0.709\n",
      "      0     1\n",
      "0  1061   473\n",
      "1   400  1066\n",
      "             precision    recall  f1-score   support\n",
      "\n",
      "          0       0.73      0.69      0.71      1534\n",
      "          1       0.69      0.73      0.71      1466\n",
      "\n",
      "avg / total       0.71      0.71      0.71      3000\n",
      "\n"
     ]
    }
   ],
   "source": [
    "run_model(pipeline_lr, Xtt5_train, Xtt5_test, ytt5_train, ytt5_test)"
   ]
  },
  {
   "cell_type": "code",
   "execution_count": 56,
   "metadata": {
    "collapsed": false
   },
   "outputs": [],
   "source": [
    "tfi = TfidfVectorizer(ngram_range=(2,3), stop_words = stop_words)\n",
    "lr_xtt5train = tfi.fit_transform(Xtt5_train)\n",
    "lr_test_xtt5 = tfi.transform(Xtt5_test)\n",
    "df_lr5  = pd.DataFrame(tfi.fit_transform(Xtt5_train).todense(), columns=tfi.get_feature_names())"
   ]
  },
  {
   "cell_type": "code",
   "execution_count": null,
   "metadata": {
    "collapsed": true
   },
   "outputs": [],
   "source": [
    "pipeline_lr = Pipeline([\n",
    "    ('vect', TfidfVectorizer(ngram_range=(1,3), stop_words=stop_words)),\n",
    "    ('tfidf', TfidfTransformer()),\n",
    "    ('cls', LogisticRegression())])"
   ]
  },
  {
   "cell_type": "code",
   "execution_count": 9,
   "metadata": {
    "collapsed": false
   },
   "outputs": [],
   "source": [
    "lr = LogisticRegression()"
   ]
  },
  {
   "cell_type": "code",
   "execution_count": 58,
   "metadata": {
    "collapsed": false
   },
   "outputs": [
    {
     "name": "stdout",
     "output_type": "stream",
     "text": [
      "0.704333333333\n",
      "      0    1\n",
      "0  1156  378\n",
      "1   509  957\n",
      "             precision    recall  f1-score   support\n",
      "\n",
      "          0       0.69      0.75      0.72      1534\n",
      "          1       0.72      0.65      0.68      1466\n",
      "\n",
      "avg / total       0.71      0.70      0.70      3000\n",
      "\n"
     ]
    }
   ],
   "source": [
    "run_model(lr, lr_xtt5train, lr_test_xtt5, ytt5_train, ytt5_test)"
   ]
  },
  {
   "cell_type": "code",
   "execution_count": 59,
   "metadata": {
    "collapsed": false
   },
   "outputs": [
    {
     "data": {
      "text/html": [
       "<div>\n",
       "<table border=\"1\" class=\"dataframe\">\n",
       "  <thead>\n",
       "    <tr style=\"text-align: right;\">\n",
       "      <th></th>\n",
       "      <th>Coefficient</th>\n",
       "      <th>Abs_Coefficient</th>\n",
       "    </tr>\n",
       "  </thead>\n",
       "  <tbody>\n",
       "    <tr>\n",
       "      <th>president trump</th>\n",
       "      <td>3.416675</td>\n",
       "      <td>3.416675</td>\n",
       "    </tr>\n",
       "    <tr>\n",
       "      <th>white house</th>\n",
       "      <td>2.400660</td>\n",
       "      <td>2.400660</td>\n",
       "    </tr>\n",
       "    <tr>\n",
       "      <th>valentine day</th>\n",
       "      <td>-2.276351</td>\n",
       "      <td>2.276351</td>\n",
       "    </tr>\n",
       "    <tr>\n",
       "      <th>kellyanne conway</th>\n",
       "      <td>1.962307</td>\n",
       "      <td>1.962307</td>\n",
       "    </tr>\n",
       "    <tr>\n",
       "      <th>donald trump</th>\n",
       "      <td>1.767933</td>\n",
       "      <td>1.767933</td>\n",
       "    </tr>\n",
       "    <tr>\n",
       "      <th>michael flynn</th>\n",
       "      <td>1.744482</td>\n",
       "      <td>1.744482</td>\n",
       "    </tr>\n",
       "    <tr>\n",
       "      <th>betsy devos</th>\n",
       "      <td>1.734992</td>\n",
       "      <td>1.734992</td>\n",
       "    </tr>\n",
       "    <tr>\n",
       "      <th>need know</th>\n",
       "      <td>-1.690300</td>\n",
       "      <td>1.690300</td>\n",
       "    </tr>\n",
       "    <tr>\n",
       "      <th>elizabeth warren</th>\n",
       "      <td>1.534253</td>\n",
       "      <td>1.534253</td>\n",
       "    </tr>\n",
       "    <tr>\n",
       "      <th>super bowl</th>\n",
       "      <td>-1.505483</td>\n",
       "      <td>1.505483</td>\n",
       "    </tr>\n",
       "    <tr>\n",
       "      <th>muslim ban</th>\n",
       "      <td>1.419780</td>\n",
       "      <td>1.419780</td>\n",
       "    </tr>\n",
       "    <tr>\n",
       "      <th>briefing need know</th>\n",
       "      <td>-1.163778</td>\n",
       "      <td>1.163778</td>\n",
       "    </tr>\n",
       "    <tr>\n",
       "      <th>briefing need</th>\n",
       "      <td>-1.163778</td>\n",
       "      <td>1.163778</td>\n",
       "    </tr>\n",
       "    <tr>\n",
       "      <th>sean spicer</th>\n",
       "      <td>1.126492</td>\n",
       "      <td>1.126492</td>\n",
       "    </tr>\n",
       "    <tr>\n",
       "      <th>trump administration</th>\n",
       "      <td>1.106338</td>\n",
       "      <td>1.106338</td>\n",
       "    </tr>\n",
       "    <tr>\n",
       "      <th>lady gaga</th>\n",
       "      <td>1.076601</td>\n",
       "      <td>1.076601</td>\n",
       "    </tr>\n",
       "    <tr>\n",
       "      <th>ll tell</th>\n",
       "      <td>-1.066742</td>\n",
       "      <td>1.066742</td>\n",
       "    </tr>\n",
       "    <tr>\n",
       "      <th>steve bannon</th>\n",
       "      <td>1.015253</td>\n",
       "      <td>1.015253</td>\n",
       "    </tr>\n",
       "    <tr>\n",
       "      <th>immigration ban</th>\n",
       "      <td>1.005465</td>\n",
       "      <td>1.005465</td>\n",
       "    </tr>\n",
       "    <tr>\n",
       "      <th>melissa mccarthy</th>\n",
       "      <td>0.979045</td>\n",
       "      <td>0.979045</td>\n",
       "    </tr>\n",
       "    <tr>\n",
       "      <th>breaking news</th>\n",
       "      <td>0.964494</td>\n",
       "      <td>0.964494</td>\n",
       "    </tr>\n",
       "    <tr>\n",
       "      <th>trump muslim ban</th>\n",
       "      <td>0.935604</td>\n",
       "      <td>0.935604</td>\n",
       "    </tr>\n",
       "    <tr>\n",
       "      <th>trump muslim</th>\n",
       "      <td>0.935604</td>\n",
       "      <td>0.935604</td>\n",
       "    </tr>\n",
       "    <tr>\n",
       "      <th>trump white house</th>\n",
       "      <td>0.933056</td>\n",
       "      <td>0.933056</td>\n",
       "    </tr>\n",
       "    <tr>\n",
       "      <th>trump white</th>\n",
       "      <td>0.933056</td>\n",
       "      <td>0.933056</td>\n",
       "    </tr>\n",
       "    <tr>\n",
       "      <th>trump travel</th>\n",
       "      <td>0.928527</td>\n",
       "      <td>0.928527</td>\n",
       "    </tr>\n",
       "    <tr>\n",
       "      <th>travel ban</th>\n",
       "      <td>0.925204</td>\n",
       "      <td>0.925204</td>\n",
       "    </tr>\n",
       "    <tr>\n",
       "      <th>ivanka trump</th>\n",
       "      <td>0.899014</td>\n",
       "      <td>0.899014</td>\n",
       "    </tr>\n",
       "    <tr>\n",
       "      <th>best deals</th>\n",
       "      <td>-0.885846</td>\n",
       "      <td>0.885846</td>\n",
       "    </tr>\n",
       "    <tr>\n",
       "      <th>bowl li</th>\n",
       "      <td>-0.837601</td>\n",
       "      <td>0.837601</td>\n",
       "    </tr>\n",
       "    <tr>\n",
       "      <th>...</th>\n",
       "      <td>...</td>\n",
       "      <td>...</td>\n",
       "    </tr>\n",
       "    <tr>\n",
       "      <th>mexico imports</th>\n",
       "      <td>-0.000439</td>\n",
       "      <td>0.000439</td>\n",
       "    </tr>\n",
       "    <tr>\n",
       "      <th>pay border</th>\n",
       "      <td>-0.000439</td>\n",
       "      <td>0.000439</td>\n",
       "    </tr>\n",
       "    <tr>\n",
       "      <th>20 tax mexico</th>\n",
       "      <td>-0.000439</td>\n",
       "      <td>0.000439</td>\n",
       "    </tr>\n",
       "    <tr>\n",
       "      <th>pay border wall</th>\n",
       "      <td>-0.000439</td>\n",
       "      <td>0.000439</td>\n",
       "    </tr>\n",
       "    <tr>\n",
       "      <th>tax mexico</th>\n",
       "      <td>-0.000439</td>\n",
       "      <td>0.000439</td>\n",
       "    </tr>\n",
       "    <tr>\n",
       "      <th>20 tax</th>\n",
       "      <td>-0.000439</td>\n",
       "      <td>0.000439</td>\n",
       "    </tr>\n",
       "    <tr>\n",
       "      <th>tax mexico imports</th>\n",
       "      <td>-0.000439</td>\n",
       "      <td>0.000439</td>\n",
       "    </tr>\n",
       "    <tr>\n",
       "      <th>25 films surprisingly</th>\n",
       "      <td>0.000436</td>\n",
       "      <td>0.000436</td>\n",
       "    </tr>\n",
       "    <tr>\n",
       "      <th>surprisingly turn</th>\n",
       "      <td>0.000436</td>\n",
       "      <td>0.000436</td>\n",
       "    </tr>\n",
       "    <tr>\n",
       "      <th>films surprisingly turn</th>\n",
       "      <td>0.000436</td>\n",
       "      <td>0.000436</td>\n",
       "    </tr>\n",
       "    <tr>\n",
       "      <th>surprisingly turn 10</th>\n",
       "      <td>0.000436</td>\n",
       "      <td>0.000436</td>\n",
       "    </tr>\n",
       "    <tr>\n",
       "      <th>25 films</th>\n",
       "      <td>0.000436</td>\n",
       "      <td>0.000436</td>\n",
       "    </tr>\n",
       "    <tr>\n",
       "      <th>turn 10 2017</th>\n",
       "      <td>0.000436</td>\n",
       "      <td>0.000436</td>\n",
       "    </tr>\n",
       "    <tr>\n",
       "      <th>turn 10</th>\n",
       "      <td>0.000436</td>\n",
       "      <td>0.000436</td>\n",
       "    </tr>\n",
       "    <tr>\n",
       "      <th>films surprisingly</th>\n",
       "      <td>0.000436</td>\n",
       "      <td>0.000436</td>\n",
       "    </tr>\n",
       "    <tr>\n",
       "      <th>louvre paris</th>\n",
       "      <td>0.000406</td>\n",
       "      <td>0.000406</td>\n",
       "    </tr>\n",
       "    <tr>\n",
       "      <th>carving demogorgon stranger</th>\n",
       "      <td>-0.000375</td>\n",
       "      <td>0.000375</td>\n",
       "    </tr>\n",
       "    <tr>\n",
       "      <th>demogorgon stranger things</th>\n",
       "      <td>-0.000375</td>\n",
       "      <td>0.000375</td>\n",
       "    </tr>\n",
       "    <tr>\n",
       "      <th>ice carving demogorgon</th>\n",
       "      <td>-0.000375</td>\n",
       "      <td>0.000375</td>\n",
       "    </tr>\n",
       "    <tr>\n",
       "      <th>ice carving</th>\n",
       "      <td>-0.000375</td>\n",
       "      <td>0.000375</td>\n",
       "    </tr>\n",
       "    <tr>\n",
       "      <th>carving demogorgon</th>\n",
       "      <td>-0.000375</td>\n",
       "      <td>0.000375</td>\n",
       "    </tr>\n",
       "    <tr>\n",
       "      <th>touch bar</th>\n",
       "      <td>-0.000353</td>\n",
       "      <td>0.000353</td>\n",
       "    </tr>\n",
       "    <tr>\n",
       "      <th>virginia high</th>\n",
       "      <td>0.000351</td>\n",
       "      <td>0.000351</td>\n",
       "    </tr>\n",
       "    <tr>\n",
       "      <th>virginia high school</th>\n",
       "      <td>0.000351</td>\n",
       "      <td>0.000351</td>\n",
       "    </tr>\n",
       "    <tr>\n",
       "      <th>giving birth</th>\n",
       "      <td>-0.000348</td>\n",
       "      <td>0.000348</td>\n",
       "    </tr>\n",
       "    <tr>\n",
       "      <th>calling muslim</th>\n",
       "      <td>-0.000247</td>\n",
       "      <td>0.000247</td>\n",
       "    </tr>\n",
       "    <tr>\n",
       "      <th>new study</th>\n",
       "      <td>-0.000215</td>\n",
       "      <td>0.000215</td>\n",
       "    </tr>\n",
       "    <tr>\n",
       "      <th>figure trump</th>\n",
       "      <td>0.000139</td>\n",
       "      <td>0.000139</td>\n",
       "    </tr>\n",
       "    <tr>\n",
       "      <th>beyoncé jay</th>\n",
       "      <td>-0.000091</td>\n",
       "      <td>0.000091</td>\n",
       "    </tr>\n",
       "    <tr>\n",
       "      <th>day trump</th>\n",
       "      <td>-0.000053</td>\n",
       "      <td>0.000053</td>\n",
       "    </tr>\n",
       "  </tbody>\n",
       "</table>\n",
       "<p>109726 rows × 2 columns</p>\n",
       "</div>"
      ],
      "text/plain": [
       "                             Coefficient  Abs_Coefficient\n",
       "president trump                 3.416675         3.416675\n",
       "white house                     2.400660         2.400660\n",
       "valentine day                  -2.276351         2.276351\n",
       "kellyanne conway                1.962307         1.962307\n",
       "donald trump                    1.767933         1.767933\n",
       "michael flynn                   1.744482         1.744482\n",
       "betsy devos                     1.734992         1.734992\n",
       "need know                      -1.690300         1.690300\n",
       "elizabeth warren                1.534253         1.534253\n",
       "super bowl                     -1.505483         1.505483\n",
       "muslim ban                      1.419780         1.419780\n",
       "briefing need know             -1.163778         1.163778\n",
       "briefing need                  -1.163778         1.163778\n",
       "sean spicer                     1.126492         1.126492\n",
       "trump administration            1.106338         1.106338\n",
       "lady gaga                       1.076601         1.076601\n",
       "ll tell                        -1.066742         1.066742\n",
       "steve bannon                    1.015253         1.015253\n",
       "immigration ban                 1.005465         1.005465\n",
       "melissa mccarthy                0.979045         0.979045\n",
       "breaking news                   0.964494         0.964494\n",
       "trump muslim ban                0.935604         0.935604\n",
       "trump muslim                    0.935604         0.935604\n",
       "trump white house               0.933056         0.933056\n",
       "trump white                     0.933056         0.933056\n",
       "trump travel                    0.928527         0.928527\n",
       "travel ban                      0.925204         0.925204\n",
       "ivanka trump                    0.899014         0.899014\n",
       "best deals                     -0.885846         0.885846\n",
       "bowl li                        -0.837601         0.837601\n",
       "...                                  ...              ...\n",
       "mexico imports                 -0.000439         0.000439\n",
       "pay border                     -0.000439         0.000439\n",
       "20 tax mexico                  -0.000439         0.000439\n",
       "pay border wall                -0.000439         0.000439\n",
       "tax mexico                     -0.000439         0.000439\n",
       "20 tax                         -0.000439         0.000439\n",
       "tax mexico imports             -0.000439         0.000439\n",
       "25 films surprisingly           0.000436         0.000436\n",
       "surprisingly turn               0.000436         0.000436\n",
       "films surprisingly turn         0.000436         0.000436\n",
       "surprisingly turn 10            0.000436         0.000436\n",
       "25 films                        0.000436         0.000436\n",
       "turn 10 2017                    0.000436         0.000436\n",
       "turn 10                         0.000436         0.000436\n",
       "films surprisingly              0.000436         0.000436\n",
       "louvre paris                    0.000406         0.000406\n",
       "carving demogorgon stranger    -0.000375         0.000375\n",
       "demogorgon stranger things     -0.000375         0.000375\n",
       "ice carving demogorgon         -0.000375         0.000375\n",
       "ice carving                    -0.000375         0.000375\n",
       "carving demogorgon             -0.000375         0.000375\n",
       "touch bar                      -0.000353         0.000353\n",
       "virginia high                   0.000351         0.000351\n",
       "virginia high school            0.000351         0.000351\n",
       "giving birth                   -0.000348         0.000348\n",
       "calling muslim                 -0.000247         0.000247\n",
       "new study                      -0.000215         0.000215\n",
       "figure trump                    0.000139         0.000139\n",
       "beyoncé jay                    -0.000091         0.000091\n",
       "day trump                      -0.000053         0.000053\n",
       "\n",
       "[109726 rows x 2 columns]"
      ]
     },
     "execution_count": 59,
     "metadata": {},
     "output_type": "execute_result"
    }
   ],
   "source": [
    "log_get_co(lr, df_lr5)"
   ]
  },
  {
   "cell_type": "code",
   "execution_count": 352,
   "metadata": {
    "collapsed": true
   },
   "outputs": [],
   "source": [
    "pipelineBNB2 = Pipeline([\n",
    "    ('vect', CountVectorizer(ngram_range=(1,2))),\n",
    "    ('tfidf', TfidfTransformer()),\n",
    "    ('cls', BernoulliNB())]) "
   ]
  },
  {
   "cell_type": "code",
   "execution_count": null,
   "metadata": {
    "collapsed": true
   },
   "outputs": [],
   "source": [
    "cvt1 = CountVectorizer(ngram_range=(1,3), stop_words = stop_words)\n",
    "Xcvt = cvt1.fit_transform(Xtnv5_train)\n",
    "test_xcvt = cvt1.transform(Xtnv5_test)"
   ]
  },
  {
   "cell_type": "code",
   "execution_count": 494,
   "metadata": {
    "collapsed": true
   },
   "outputs": [],
   "source": [
    "cvt2 = CountVectorizer(ngram_range=(1,3), stop_words = stop_words)\n",
    "lr_xtv75train = cvt2.fit_transform(Xtnv75_train)\n",
    "test_xcvt = cvt2.transform(Xtnv75_test)"
   ]
  },
  {
   "cell_type": "code",
   "execution_count": 497,
   "metadata": {
    "collapsed": false
   },
   "outputs": [],
   "source": [
    "df_lr75  = pd.DataFrame(cvt2.fit_transform(Xtnv75_train).todense(), columns=cvt2.get_feature_names())"
   ]
  },
  {
   "cell_type": "code",
   "execution_count": 495,
   "metadata": {
    "collapsed": false
   },
   "outputs": [
    {
     "name": "stdout",
     "output_type": "stream",
     "text": [
      "LogisticRegression(C=1.0, class_weight=None, dual=False, fit_intercept=True,\n",
      "          intercept_scaling=1, max_iter=100, multi_class='ovr', n_jobs=1,\n",
      "          penalty='l2', random_state=None, solver='liblinear', tol=0.0001,\n",
      "          verbose=0, warm_start=False)\n",
      "{'penalty': 'l2', 'C': 1.0}\n",
      "0.781597222222\n"
     ]
    }
   ],
   "source": [
    "model = GridSearchCV(LogisticRegression(), {'C': [0.001, 0.01, 0.1, 1.0, 10.0, 100.0],\n",
    "                                            'penalty': ['l1', 'l2']})\n",
    "model.fit(lr_xtv75train, ytnv75_train)\n",
    "print model.best_estimator_\n",
    "print model.best_params_\n",
    "print model.best_score_\n",
    "\n",
    "lr_xtv75 = model.best_estimator_"
   ]
  },
  {
   "cell_type": "code",
   "execution_count": 496,
   "metadata": {
    "collapsed": false
   },
   "outputs": [
    {
     "name": "stdout",
     "output_type": "stream",
     "text": [
      "0.794791666667\n",
      "     0   1\n",
      "0  687  31\n",
      "1  166  76\n",
      "             precision    recall  f1-score   support\n",
      "\n",
      "          0       0.81      0.96      0.87       718\n",
      "          1       0.71      0.31      0.44       242\n",
      "\n",
      "avg / total       0.78      0.79      0.76       960\n",
      "\n"
     ]
    }
   ],
   "source": [
    "eval_model(lr_xtv75, test_xcvt, ytnv75_test)"
   ]
  },
  {
   "cell_type": "code",
   "execution_count": null,
   "metadata": {
    "collapsed": true
   },
   "outputs": [],
   "source": [
    "#testing pipelines"
   ]
  },
  {
   "cell_type": "code",
   "execution_count": 595,
   "metadata": {
    "collapsed": false
   },
   "outputs": [],
   "source": [
    "cvt1 = CountVectorizer(ngram_range=(1,3), stop_words = stop_words)\n",
    "Xcvt = cvt1.fit_transform(Xtnv5_train)\n",
    "test_xcvt = cvt1.transform(Xtnv5_test)\n",
    "\n",
    "tfidf1 = TfidfVectorizer(ngram_range=(2,4), stop_words = stop_words)\n",
    "lr_xtt5train_tfidf = tfidf1.fit_transform(Xtt5_train)\n",
    "lr_xtt5test_tfidf = tfidf1.transform(Xtt5_test)\n"
   ]
  },
  {
   "cell_type": "code",
   "execution_count": 460,
   "metadata": {
    "collapsed": false
   },
   "outputs": [
    {
     "name": "stdout",
     "output_type": "stream",
     "text": [
      "0.685416666667\n",
      "     0    1\n",
      "0  379  102\n",
      "1  200  279\n",
      "             precision    recall  f1-score   support\n",
      "\n",
      "          0       0.65      0.79      0.72       481\n",
      "          1       0.73      0.58      0.65       479\n",
      "\n",
      "avg / total       0.69      0.69      0.68       960\n",
      "\n"
     ]
    }
   ],
   "source": [
    "lr_xtt5 = LogisticRegression()\n",
    "run_model(lr_xtt5, lr_xtt5train_tfidf, lr_xtt5test_tfidf, ytt5_train, ytt5_test)"
   ]
  },
  {
   "cell_type": "code",
   "execution_count": 462,
   "metadata": {
    "collapsed": false
   },
   "outputs": [],
   "source": [
    "df_lr_xtt5train_tfidf  = pd.DataFrame(tfidf1.fit_transform(Xtt5_train).todense(), columns=tfidf1.get_feature_names())"
   ]
  },
  {
   "cell_type": "code",
   "execution_count": 366,
   "metadata": {
    "collapsed": true
   },
   "outputs": [],
   "source": [
    "pipelineBNB2 = Pipeline([\n",
    "    ('vect', CountVectorizer(ngram_range=(1,2))),\n",
    "    ('tfidf', TfidfTransformer()),\n",
    "    ('cls', SVC(class_weight = 'balanced', kernel = 'linear'))\n",
    "]) \n",
    " "
   ]
  },
  {
   "cell_type": "code",
   "execution_count": 458,
   "metadata": {
    "collapsed": false
   },
   "outputs": [
    {
     "name": "stdout",
     "output_type": "stream",
     "text": [
      "0.708333333333\n",
      "     0    1\n",
      "0  331  150\n",
      "1  130  349\n",
      "             precision    recall  f1-score   support\n",
      "\n",
      "          0       0.72      0.69      0.70       481\n",
      "          1       0.70      0.73      0.71       479\n",
      "\n",
      "avg / total       0.71      0.71      0.71       960\n",
      "\n"
     ]
    }
   ],
   "source": []
  },
  {
   "cell_type": "code",
   "execution_count": 485,
   "metadata": {
    "collapsed": false
   },
   "outputs": [
    {
     "name": "stdout",
     "output_type": "stream",
     "text": [
      "0.769791666667\n",
      "     0   1\n",
      "0  707  11\n",
      "1  210  32\n",
      "             precision    recall  f1-score   support\n",
      "\n",
      "          0       0.77      0.98      0.86       718\n",
      "          1       0.74      0.13      0.22       242\n",
      "\n",
      "avg / total       0.76      0.77      0.70       960\n",
      "\n"
     ]
    }
   ],
   "source": [
    "run_model(pipeline_lr, Xtnv75_train, Xtnv75_test, ytnv75_train, ytnv75_test)"
   ]
  },
  {
   "cell_type": "code",
   "execution_count": 456,
   "metadata": {
    "collapsed": false
   },
   "outputs": [
    {
     "name": "stdout",
     "output_type": "stream",
     "text": [
      "0.713541666667\n",
      "     0    1\n",
      "0  370  111\n",
      "1  164  315\n",
      "             precision    recall  f1-score   support\n",
      "\n",
      "          0       0.69      0.77      0.73       481\n",
      "          1       0.74      0.66      0.70       479\n",
      "\n",
      "avg / total       0.72      0.71      0.71       960\n",
      "\n"
     ]
    }
   ],
   "source": [
    "run_model(pipelineBNB5, Xtnv5_train, Xtnv5_test, ytnv5_train, ytnv5_test)"
   ]
  },
  {
   "cell_type": "code",
   "execution_count": 551,
   "metadata": {
    "collapsed": false
   },
   "outputs": [
    {
     "name": "stdout",
     "output_type": "stream",
     "text": [
      "0.736263736264\n",
      "     0    1\n",
      "0  235   82\n",
      "1   86  234\n",
      "             precision    recall  f1-score   support\n",
      "\n",
      "          0       0.73      0.74      0.74       317\n",
      "          1       0.74      0.73      0.74       320\n",
      "\n",
      "avg / total       0.74      0.74      0.74       637\n",
      "\n"
     ]
    }
   ],
   "source": [
    "run_model(pipelineBNB5, Xwt5_train, Xwt5_test, ywt5_train, ywt5_test)"
   ]
  },
  {
   "cell_type": "code",
   "execution_count": 331,
   "metadata": {
    "collapsed": true
   },
   "outputs": [],
   "source": [
    "w5rfc = RandomForestClassifier()\n",
    "t5rfc = RandomForestClassifier()"
   ]
  },
  {
   "cell_type": "code",
   "execution_count": 332,
   "metadata": {
    "collapsed": false
   },
   "outputs": [
    {
     "name": "stdout",
     "output_type": "stream",
     "text": [
      "0.542708333333\n",
      "     0    1\n",
      "0  274  207\n",
      "1  232  247\n",
      "             precision    recall  f1-score   support\n",
      "\n",
      "          0       0.54      0.57      0.56       481\n",
      "          1       0.54      0.52      0.53       479\n",
      "\n",
      "avg / total       0.54      0.54      0.54       960\n",
      "\n"
     ]
    }
   ],
   "source": [
    "run_model(t5rfc, Xt5_train, Xt5_test, yt5_train, yt5_test)"
   ]
  },
  {
   "cell_type": "code",
   "execution_count": 318,
   "metadata": {
    "collapsed": false
   },
   "outputs": [
    {
     "name": "stdout",
     "output_type": "stream",
     "text": [
      "0.578947368421\n",
      "    0   1\n",
      "0  69  56\n",
      "1  48  74\n",
      "             precision    recall  f1-score   support\n",
      "\n",
      "          0       0.59      0.55      0.57       125\n",
      "          1       0.57      0.61      0.59       122\n",
      "\n",
      "avg / total       0.58      0.58      0.58       247\n",
      "\n"
     ]
    }
   ],
   "source": [
    "run_model(w5rfc, Xw5_train, Xw5_test, yw5_train, yw5_test)"
   ]
  },
  {
   "cell_type": "code",
   "execution_count": 327,
   "metadata": {
    "collapsed": false
   },
   "outputs": [
    {
     "name": "stdout",
     "output_type": "stream",
     "text": [
      "GridSearchCV took 15.31 seconds for 108 candidate parameter settings.\n",
      "Model with rank: 1\n",
      "Mean validation score: 0.562 (std: 0.018)\n",
      "Parameters: {'min_samples_split': 3, 'bootstrap': False, 'criterion': 'entropy', 'max_depth': None, 'min_samples_leaf': 3}\n",
      "\n",
      "Model with rank: 2\n",
      "Mean validation score: 0.561 (std: 0.010)\n",
      "Parameters: {'min_samples_split': 1, 'bootstrap': True, 'criterion': 'gini', 'max_depth': None, 'min_samples_leaf': 1}\n",
      "\n",
      "Model with rank: 3\n",
      "Mean validation score: 0.558 (std: 0.029)\n",
      "Parameters: {'min_samples_split': 3, 'bootstrap': True, 'criterion': 'gini', 'max_depth': None, 'min_samples_leaf': 1}\n",
      "\n",
      "Model with rank: 3\n",
      "Mean validation score: 0.558 (std: 0.016)\n",
      "Parameters: {'min_samples_split': 10, 'bootstrap': True, 'criterion': 'gini', 'max_depth': None, 'min_samples_leaf': 1}\n",
      "\n"
     ]
    }
   ],
   "source": [
    "def report(results, n_top=3):\n",
    "    for i in range(1, n_top + 1):\n",
    "        candidates = np.flatnonzero(results['rank_test_score'] == i)\n",
    "        for candidate in candidates:\n",
    "            print(\"Model with rank: {0}\".format(i))\n",
    "            print(\"Mean validation score: {0:.3f} (std: {1:.3f})\".format(\n",
    "                  results['mean_test_score'][candidate],\n",
    "                  results['std_test_score'][candidate]))\n",
    "            print(\"Parameters: {0}\".format(results['params'][candidate]))\n",
    "            print(\"\")\n",
    "\n",
    "# use a full grid over all parameters\n",
    "param_grid = {\"max_depth\": [3, 6, None],\n",
    "              \"min_samples_split\": [1, 3, 10],\n",
    "              \"min_samples_leaf\": [1, 3, 10],\n",
    "              \"bootstrap\": [True, False],\n",
    "              \"criterion\": [\"gini\", \"entropy\"]}\n",
    "\n",
    "# run grid search\n",
    "grid_search = GridSearchCV(w5rfc, param_grid=param_grid)\n",
    "start = time()\n",
    "grid_search.fit(Xw5_train, yw5_train)\n",
    "\n",
    "print(\"GridSearchCV took %.2f seconds for %d candidate parameter settings.\"\n",
    "      % (time() - start, len(grid_search.cv_results_['params'])))\n",
    "report(grid_search.cv_results_)"
   ]
  },
  {
   "cell_type": "code",
   "execution_count": 38,
   "metadata": {
    "collapsed": false
   },
   "outputs": [
    {
     "data": {
      "text/plain": [
       "(39644, 62)"
      ]
     },
     "execution_count": 38,
     "metadata": {},
     "output_type": "execute_result"
    }
   ],
   "source": [
    "news.shape"
   ]
  },
  {
   "cell_type": "code",
   "execution_count": 34,
   "metadata": {
    "collapsed": true
   },
   "outputs": [],
   "source": [
    "\n"
   ]
  },
  {
   "cell_type": "code",
   "execution_count": 37,
   "metadata": {
    "collapsed": false
   },
   "outputs": [
    {
     "name": "stdout",
     "output_type": "stream",
     "text": [
      "LogisticRegression(C=100.0, class_weight=None, dual=False, fit_intercept=True,\n",
      "          intercept_scaling=1, max_iter=100, multi_class='ovr', n_jobs=1,\n",
      "          penalty='l1', random_state=None, solver='liblinear', tol=0.0001,\n",
      "          verbose=0, warm_start=False)\n",
      "{'penalty': 'l1', 'C': 100.0}\n",
      "0.760972656644\n"
     ]
    }
   ],
   "source": [
    "glr = GridSearchCV(LogisticRegression(), {'C': [0.001, 0.01, 0.1, 1.0, 10.0, 100.0],\n",
    "                                            'penalty': ['l1', 'l2']})\n",
    "glr.fit(X_train75, y_train75)\n",
    "print glr.best_estimator_\n",
    "print glr.best_params_\n",
    "print glr.best_score_"
   ]
  },
  {
   "cell_type": "code",
   "execution_count": 40,
   "metadata": {
    "collapsed": true
   },
   "outputs": [],
   "source": [
    "glr = glr.best_estimator_"
   ]
  },
  {
   "cell_type": "code",
   "execution_count": 41,
   "metadata": {
    "collapsed": false
   },
   "outputs": [
    {
     "name": "stdout",
     "output_type": "stream",
     "text": [
      "0.754515185148\n",
      "      0    1\n",
      "0  7278  196\n",
      "1  2237  200\n",
      "             precision    recall  f1-score   support\n",
      "\n",
      "          0       0.76      0.97      0.86      7474\n",
      "          1       0.51      0.08      0.14      2437\n",
      "\n",
      "avg / total       0.70      0.75      0.68      9911\n",
      "\n"
     ]
    }
   ],
   "source": [
    "eval_model(glr, X_test75, y_test75)"
   ]
  },
  {
   "cell_type": "code",
   "execution_count": 48,
   "metadata": {
    "collapsed": false
   },
   "outputs": [
    {
     "data": {
      "text/plain": [
       "array([-1.47816431, -1.99433654, -0.90825052, ..., -0.98932808,\n",
       "       -1.67669293, -0.38259846])"
      ]
     },
     "execution_count": 48,
     "metadata": {},
     "output_type": "execute_result"
    }
   ],
   "source": [
    "glr.decision_function(X_test75)"
   ]
  },
  {
   "cell_type": "code",
   "execution_count": 49,
   "metadata": {
    "collapsed": false
   },
   "outputs": [
    {
     "data": {
      "text/plain": [
       "array([[ 0.81429515,  0.18570485],\n",
       "       [ 0.88020117,  0.11979883],\n",
       "       [ 0.71264203,  0.28735797],\n",
       "       ..., \n",
       "       [ 0.72895519,  0.27104481],\n",
       "       [ 0.84246612,  0.15753388],\n",
       "       [ 0.59449967,  0.40550033]])"
      ]
     },
     "execution_count": 49,
     "metadata": {},
     "output_type": "execute_result"
    }
   ],
   "source": [
    "glr.predict_proba(X_test75)"
   ]
  },
  {
   "cell_type": "code",
   "execution_count": 377,
   "metadata": {
    "collapsed": false
   },
   "outputs": [],
   "source": [
    "pipelineBNB2.fit(Xtnv5_train, ytnv5_train)\n",
    "ytnv5_pred = pipelineBNB2.predict_proba(Xtnv5_test)"
   ]
  },
  {
   "cell_type": "code",
   "execution_count": 383,
   "metadata": {
    "collapsed": false
   },
   "outputs": [],
   "source": [
    "ytnv5_pred_viral = []\n",
    "for i in ytnv5_pred:\n",
    "    ytnv5_pred_viral.append(i[1])\n",
    "\n"
   ]
  },
  {
   "cell_type": "code",
   "execution_count": 398,
   "metadata": {
    "collapsed": true
   },
   "outputs": [],
   "source": [
    "manual_pred_viral = []\n",
    "for i in manual_preds:\n",
    "    manual_pred_viral.append(i[1])"
   ]
  },
  {
   "cell_type": "code",
   "execution_count": null,
   "metadata": {
    "collapsed": false
   },
   "outputs": [],
   "source": []
  },
  {
   "cell_type": "code",
   "execution_count": 413,
   "metadata": {
    "collapsed": true
   },
   "outputs": [],
   "source": [
    "bnb = BernoulliNB()\n",
    "lr = LogisticRegression()\n",
    "lrnp = LogisticRegression()"
   ]
  },
  {
   "cell_type": "code",
   "execution_count": 1,
   "metadata": {
    "collapsed": false
   },
   "outputs": [],
   "source": [
    "#eval_model(bnb, test_xcvt, ytnv5_test)"
   ]
  },
  {
   "cell_type": "code",
   "execution_count": 414,
   "metadata": {
    "collapsed": false
   },
   "outputs": [
    {
     "data": {
      "text/plain": [
       "LogisticRegression(C=1.0, class_weight=None, dual=False, fit_intercept=True,\n",
       "          intercept_scaling=1, max_iter=100, multi_class='ovr', n_jobs=1,\n",
       "          penalty='l2', random_state=None, solver='liblinear', tol=0.0001,\n",
       "          verbose=0, warm_start=False)"
      ]
     },
     "execution_count": 414,
     "metadata": {},
     "output_type": "execute_result"
    }
   ],
   "source": [
    "bnb.fit(Xcvt, ytnv5_train)\n",
    "lr.fit(Xcvt, ytnv5_train)\n",
    "lr.fit(Xcvt, ytnv5_train)"
   ]
  },
  {
   "cell_type": "code",
   "execution_count": 594,
   "metadata": {
    "collapsed": false
   },
   "outputs": [],
   "source": [
    "#manual_preds = bnb.predict_proba(test_xcvt)"
   ]
  },
  {
   "cell_type": "code",
   "execution_count": 385,
   "metadata": {
    "collapsed": false
   },
   "outputs": [
    {
     "data": {
      "image/png": "[encoded data removed]",
      "text/plain": [
       "<matplotlib.figure.Figure at 0x1201dbb10>"
      ]
     },
     "metadata": {},
     "output_type": "display_data"
    }
   ],
   "source": [
    "from sklearn.metrics import roc_curve, auc\n",
    "import matplotlib.pyplot as plt\n",
    "plt.style.use('seaborn-white')\n",
    "%matplotlib inline\n",
    "\n",
    "\n",
    "\n",
    "#Y_score75 = glr.predict_proba(X_test75)\n",
    "\n",
    "FPR = dict()\n",
    "TPR = dict()\n",
    "ROC_AUC = dict()\n",
    "\n",
    "# For class 1, find the area under the curve\n",
    "FPR[1], TPR[1], _ = roc_curve(ytnv5_test, ytnv5_pred_viral)\n",
    "ROC_AUC[1] = auc(FPR[1], TPR[1])\n",
    "\n",
    "# Plot of a ROC curve for class 1 (has_cancer)\n",
    "plt.figure(figsize=[11,9])\n",
    "plt.plot(FPR[1], TPR[1], label='ROC curve (area = %0.2f)' % ROC_AUC[1], linewidth=4)\n",
    "plt.plot([0, 1], [0, 1], 'k--', linewidth=4)\n",
    "plt.xlim([0.0, 1.0])\n",
    "plt.ylim([0.0, 1.05])\n",
    "plt.xlabel('False Positive Rate', fontsize=18)\n",
    "plt.ylabel('True Positive Rate', fontsize=18)\n",
    "plt.title('ROC - Predicting % Retweets Above Median for BNB', fontsize=18)\n",
    "plt.legend(loc=\"lower right\")\n",
    "plt.show()"
   ]
  },
  {
   "cell_type": "code",
   "execution_count": 380,
   "metadata": {
    "collapsed": false
   },
   "outputs": [
    {
     "data": {
      "text/plain": [
       "array([-1.47816431, -1.99433654, -0.90825052, ..., -0.98932808,\n",
       "       -1.67669293, -0.38259846])"
      ]
     },
     "execution_count": 380,
     "metadata": {},
     "output_type": "execute_result"
    }
   ],
   "source": [
    "Y_score75\n"
   ]
  },
  {
   "cell_type": "code",
   "execution_count": 399,
   "metadata": {
    "collapsed": false
   },
   "outputs": [
    {
     "data": {
      "image/png": "[encoded data removed]",
      "text/plain": [
       "<matplotlib.figure.Figure at 0x126e44fd0>"
      ]
     },
     "metadata": {},
     "output_type": "display_data"
    }
   ],
   "source": [
    "from sklearn.metrics import roc_curve, auc\n",
    "import matplotlib.pyplot as plt\n",
    "plt.style.use('seaborn-white')\n",
    "%matplotlib inline\n",
    "\n",
    "\n",
    "\n",
    "#Y_score75 = glr.decision_function(X_test75)\n",
    "\n",
    "FPR = dict()\n",
    "TPR = dict()\n",
    "ROC_AUC = dict()\n",
    "\n",
    "# For class 1, find the area under the curve\n",
    "FPR[0], TPR[0], _ = roc_curve(ytnv75_test, manual_pred_viral)\n",
    "ROC_AUC[0] = auc(FPR[0], TPR[0])\n",
    "\n",
    "# Plot of a ROC curve for class 1 (has_cancer)\n",
    "plt.figure(figsize=[11,9])\n",
    "plt.plot(FPR[0], TPR[0], label='ROC curve (area = %0.2f)' % ROC_AUC[0], linewidth=4)\n",
    "plt.plot([0, 1], [0, 1], 'k--', linewidth=4)\n",
    "plt.xlim([0.0, 1.0])\n",
    "plt.ylim([0.0, 1.05])\n",
    "plt.xlabel('False Positive Rate', fontsize=18)\n",
    "plt.ylabel('True Positive Rate', fontsize=18)\n",
    "plt.title('Receiver operating characteristic', fontsize=18)\n",
    "plt.legend(loc=\"lower right\")\n",
    "plt.show()"
   ]
  },
  {
   "cell_type": "code",
   "execution_count": 47,
   "metadata": {
    "collapsed": false
   },
   "outputs": [
    {
     "data": {
      "text/plain": [
       "{0: array([  0.00000000e+00,   0.00000000e+00,   1.33797164e-04, ...,\n",
       "          9.94915708e-01,   9.94915708e-01,   1.00000000e+00])}"
      ]
     },
     "execution_count": 47,
     "metadata": {},
     "output_type": "execute_result"
    }
   ],
   "source": [
    "FPR"
   ]
  },
  {
   "cell_type": "code",
   "execution_count": 592,
   "metadata": {
    "collapsed": false
   },
   "outputs": [],
   "source": [
    "#lr_features_df.head(10)"
   ]
  },
  {
   "cell_type": "code",
   "execution_count": 449,
   "metadata": {
    "collapsed": false
   },
   "outputs": [],
   "source": [
    "stop_ngram_counts_xtt5 = []\n",
    "for header in list(df_lr_xtt5train_tfidf):\n",
    "    value = df_lr_xtt5train_tfidf[header].sum()\n",
    "    stop_ngram_counts_xtt5.append((header,value))\n",
    "    \n",
    "stop_ngram_counts_xtt5.sort(key=lambda x: x[1], reverse = True)"
   ]
  },
  {
   "cell_type": "code",
   "execution_count": 513,
   "metadata": {
    "collapsed": false
   },
   "outputs": [
    {
     "data": {
      "text/html": [
       "<div>\n",
       "<table border=\"1\" class=\"dataframe\">\n",
       "  <thead>\n",
       "    <tr style=\"text-align: right;\">\n",
       "      <th></th>\n",
       "      <th>Coefficient</th>\n",
       "      <th>Abs_Coefficient</th>\n",
       "    </tr>\n",
       "  </thead>\n",
       "  <tbody>\n",
       "    <tr>\n",
       "      <th>super bowl</th>\n",
       "      <td>-1.620494</td>\n",
       "      <td>1.620494</td>\n",
       "    </tr>\n",
       "    <tr>\n",
       "      <th>president trump</th>\n",
       "      <td>1.468844</td>\n",
       "      <td>1.468844</td>\n",
       "    </tr>\n",
       "    <tr>\n",
       "      <th>betsy devos</th>\n",
       "      <td>1.071761</td>\n",
       "      <td>1.071761</td>\n",
       "    </tr>\n",
       "    <tr>\n",
       "      <th>white house</th>\n",
       "      <td>1.045665</td>\n",
       "      <td>1.045665</td>\n",
       "    </tr>\n",
       "    <tr>\n",
       "      <th>elizabeth warren</th>\n",
       "      <td>1.038466</td>\n",
       "      <td>1.038466</td>\n",
       "    </tr>\n",
       "    <tr>\n",
       "      <th>sean spicer</th>\n",
       "      <td>1.024790</td>\n",
       "      <td>1.024790</td>\n",
       "    </tr>\n",
       "    <tr>\n",
       "      <th>trump travel</th>\n",
       "      <td>0.977986</td>\n",
       "      <td>0.977986</td>\n",
       "    </tr>\n",
       "    <tr>\n",
       "      <th>kellyanne conway</th>\n",
       "      <td>0.956182</td>\n",
       "      <td>0.956182</td>\n",
       "    </tr>\n",
       "    <tr>\n",
       "      <th>trump travel ban</th>\n",
       "      <td>0.928986</td>\n",
       "      <td>0.928986</td>\n",
       "    </tr>\n",
       "    <tr>\n",
       "      <th>need know</th>\n",
       "      <td>-0.924660</td>\n",
       "      <td>0.924660</td>\n",
       "    </tr>\n",
       "    <tr>\n",
       "      <th>travel ban</th>\n",
       "      <td>0.847906</td>\n",
       "      <td>0.847906</td>\n",
       "    </tr>\n",
       "    <tr>\n",
       "      <th>briefing need know</th>\n",
       "      <td>-0.813122</td>\n",
       "      <td>0.813122</td>\n",
       "    </tr>\n",
       "    <tr>\n",
       "      <th>briefing need</th>\n",
       "      <td>-0.813122</td>\n",
       "      <td>0.813122</td>\n",
       "    </tr>\n",
       "    <tr>\n",
       "      <th>lady gaga</th>\n",
       "      <td>0.684798</td>\n",
       "      <td>0.684798</td>\n",
       "    </tr>\n",
       "    <tr>\n",
       "      <th>trump order</th>\n",
       "      <td>0.674308</td>\n",
       "      <td>0.674308</td>\n",
       "    </tr>\n",
       "    <tr>\n",
       "      <th>trump executive</th>\n",
       "      <td>0.633058</td>\n",
       "      <td>0.633058</td>\n",
       "    </tr>\n",
       "    <tr>\n",
       "      <th>trump immigration</th>\n",
       "      <td>0.613060</td>\n",
       "      <td>0.613060</td>\n",
       "    </tr>\n",
       "    <tr>\n",
       "      <th>melissa mccarthy</th>\n",
       "      <td>0.600008</td>\n",
       "      <td>0.600008</td>\n",
       "    </tr>\n",
       "    <tr>\n",
       "      <th>trump refugee ban</th>\n",
       "      <td>0.597087</td>\n",
       "      <td>0.597087</td>\n",
       "    </tr>\n",
       "    <tr>\n",
       "      <th>refugee ban</th>\n",
       "      <td>0.597087</td>\n",
       "      <td>0.597087</td>\n",
       "    </tr>\n",
       "    <tr>\n",
       "      <th>bowling green massacre</th>\n",
       "      <td>0.558189</td>\n",
       "      <td>0.558189</td>\n",
       "    </tr>\n",
       "    <tr>\n",
       "      <th>green massacre</th>\n",
       "      <td>0.558189</td>\n",
       "      <td>0.558189</td>\n",
       "    </tr>\n",
       "    <tr>\n",
       "      <th>ivanka trump</th>\n",
       "      <td>0.554417</td>\n",
       "      <td>0.554417</td>\n",
       "    </tr>\n",
       "    <tr>\n",
       "      <th>executive order</th>\n",
       "      <td>0.551418</td>\n",
       "      <td>0.551418</td>\n",
       "    </tr>\n",
       "    <tr>\n",
       "      <th>roof superbowl</th>\n",
       "      <td>0.542225</td>\n",
       "      <td>0.542225</td>\n",
       "    </tr>\n",
       "    <tr>\n",
       "      <th>trump refugee</th>\n",
       "      <td>0.532037</td>\n",
       "      <td>0.532037</td>\n",
       "    </tr>\n",
       "    <tr>\n",
       "      <th>trump executive order</th>\n",
       "      <td>0.514796</td>\n",
       "      <td>0.514796</td>\n",
       "    </tr>\n",
       "    <tr>\n",
       "      <th>donald trump</th>\n",
       "      <td>0.513967</td>\n",
       "      <td>0.513967</td>\n",
       "    </tr>\n",
       "    <tr>\n",
       "      <th>bowling green</th>\n",
       "      <td>0.513868</td>\n",
       "      <td>0.513868</td>\n",
       "    </tr>\n",
       "    <tr>\n",
       "      <th>morning briefing</th>\n",
       "      <td>-0.511080</td>\n",
       "      <td>0.511080</td>\n",
       "    </tr>\n",
       "    <tr>\n",
       "      <th>...</th>\n",
       "      <td>...</td>\n",
       "      <td>...</td>\n",
       "    </tr>\n",
       "    <tr>\n",
       "      <th>trump advisers</th>\n",
       "      <td>-0.000241</td>\n",
       "      <td>0.000241</td>\n",
       "    </tr>\n",
       "    <tr>\n",
       "      <th>muslim brotherhood terrorist organization</th>\n",
       "      <td>-0.000241</td>\n",
       "      <td>0.000241</td>\n",
       "    </tr>\n",
       "    <tr>\n",
       "      <th>advisers debating order intended</th>\n",
       "      <td>-0.000241</td>\n",
       "      <td>0.000241</td>\n",
       "    </tr>\n",
       "    <tr>\n",
       "      <th>debating order intended designate</th>\n",
       "      <td>-0.000241</td>\n",
       "      <td>0.000241</td>\n",
       "    </tr>\n",
       "    <tr>\n",
       "      <th>terrorist organization</th>\n",
       "      <td>-0.000241</td>\n",
       "      <td>0.000241</td>\n",
       "    </tr>\n",
       "    <tr>\n",
       "      <th>designate muslim brotherhood terrorist</th>\n",
       "      <td>-0.000241</td>\n",
       "      <td>0.000241</td>\n",
       "    </tr>\n",
       "    <tr>\n",
       "      <th>designate muslim brotherhood</th>\n",
       "      <td>-0.000241</td>\n",
       "      <td>0.000241</td>\n",
       "    </tr>\n",
       "    <tr>\n",
       "      <th>designate muslim</th>\n",
       "      <td>-0.000241</td>\n",
       "      <td>0.000241</td>\n",
       "    </tr>\n",
       "    <tr>\n",
       "      <th>order intended designate muslim</th>\n",
       "      <td>-0.000241</td>\n",
       "      <td>0.000241</td>\n",
       "    </tr>\n",
       "    <tr>\n",
       "      <th>order intended designate</th>\n",
       "      <td>-0.000241</td>\n",
       "      <td>0.000241</td>\n",
       "    </tr>\n",
       "    <tr>\n",
       "      <th>debating order intended</th>\n",
       "      <td>-0.000241</td>\n",
       "      <td>0.000241</td>\n",
       "    </tr>\n",
       "    <tr>\n",
       "      <th>debating order</th>\n",
       "      <td>-0.000241</td>\n",
       "      <td>0.000241</td>\n",
       "    </tr>\n",
       "    <tr>\n",
       "      <th>order intended</th>\n",
       "      <td>-0.000241</td>\n",
       "      <td>0.000241</td>\n",
       "    </tr>\n",
       "    <tr>\n",
       "      <th>chicken playing america beautiful</th>\n",
       "      <td>-0.000161</td>\n",
       "      <td>0.000161</td>\n",
       "    </tr>\n",
       "    <tr>\n",
       "      <th>keyboard new national bird</th>\n",
       "      <td>-0.000161</td>\n",
       "      <td>0.000161</td>\n",
       "    </tr>\n",
       "    <tr>\n",
       "      <th>beautiful keyboard new national</th>\n",
       "      <td>-0.000161</td>\n",
       "      <td>0.000161</td>\n",
       "    </tr>\n",
       "    <tr>\n",
       "      <th>beautiful keyboard new</th>\n",
       "      <td>-0.000161</td>\n",
       "      <td>0.000161</td>\n",
       "    </tr>\n",
       "    <tr>\n",
       "      <th>beautiful keyboard</th>\n",
       "      <td>-0.000161</td>\n",
       "      <td>0.000161</td>\n",
       "    </tr>\n",
       "    <tr>\n",
       "      <th>keyboard new national</th>\n",
       "      <td>-0.000161</td>\n",
       "      <td>0.000161</td>\n",
       "    </tr>\n",
       "    <tr>\n",
       "      <th>america beautiful keyboard new</th>\n",
       "      <td>-0.000161</td>\n",
       "      <td>0.000161</td>\n",
       "    </tr>\n",
       "    <tr>\n",
       "      <th>national bird</th>\n",
       "      <td>-0.000161</td>\n",
       "      <td>0.000161</td>\n",
       "    </tr>\n",
       "    <tr>\n",
       "      <th>america beautiful keyboard</th>\n",
       "      <td>-0.000161</td>\n",
       "      <td>0.000161</td>\n",
       "    </tr>\n",
       "    <tr>\n",
       "      <th>playing america</th>\n",
       "      <td>-0.000161</td>\n",
       "      <td>0.000161</td>\n",
       "    </tr>\n",
       "    <tr>\n",
       "      <th>playing america beautiful</th>\n",
       "      <td>-0.000161</td>\n",
       "      <td>0.000161</td>\n",
       "    </tr>\n",
       "    <tr>\n",
       "      <th>playing america beautiful keyboard</th>\n",
       "      <td>-0.000161</td>\n",
       "      <td>0.000161</td>\n",
       "    </tr>\n",
       "    <tr>\n",
       "      <th>new national bird</th>\n",
       "      <td>-0.000161</td>\n",
       "      <td>0.000161</td>\n",
       "    </tr>\n",
       "    <tr>\n",
       "      <th>new national</th>\n",
       "      <td>-0.000161</td>\n",
       "      <td>0.000161</td>\n",
       "    </tr>\n",
       "    <tr>\n",
       "      <th>chicken playing</th>\n",
       "      <td>-0.000161</td>\n",
       "      <td>0.000161</td>\n",
       "    </tr>\n",
       "    <tr>\n",
       "      <th>chicken playing america</th>\n",
       "      <td>-0.000161</td>\n",
       "      <td>0.000161</td>\n",
       "    </tr>\n",
       "    <tr>\n",
       "      <th>keyboard new</th>\n",
       "      <td>-0.000161</td>\n",
       "      <td>0.000161</td>\n",
       "    </tr>\n",
       "  </tbody>\n",
       "</table>\n",
       "<p>53518 rows × 2 columns</p>\n",
       "</div>"
      ],
      "text/plain": [
       "                                          Coefficient  Abs_Coefficient\n",
       "super bowl                                  -1.620494         1.620494\n",
       "president trump                              1.468844         1.468844\n",
       "betsy devos                                  1.071761         1.071761\n",
       "white house                                  1.045665         1.045665\n",
       "elizabeth warren                             1.038466         1.038466\n",
       "sean spicer                                  1.024790         1.024790\n",
       "trump travel                                 0.977986         0.977986\n",
       "kellyanne conway                             0.956182         0.956182\n",
       "trump travel ban                             0.928986         0.928986\n",
       "need know                                   -0.924660         0.924660\n",
       "travel ban                                   0.847906         0.847906\n",
       "briefing need know                          -0.813122         0.813122\n",
       "briefing need                               -0.813122         0.813122\n",
       "lady gaga                                    0.684798         0.684798\n",
       "trump order                                  0.674308         0.674308\n",
       "trump executive                              0.633058         0.633058\n",
       "trump immigration                            0.613060         0.613060\n",
       "melissa mccarthy                             0.600008         0.600008\n",
       "trump refugee ban                            0.597087         0.597087\n",
       "refugee ban                                  0.597087         0.597087\n",
       "bowling green massacre                       0.558189         0.558189\n",
       "green massacre                               0.558189         0.558189\n",
       "ivanka trump                                 0.554417         0.554417\n",
       "executive order                              0.551418         0.551418\n",
       "roof superbowl                               0.542225         0.542225\n",
       "trump refugee                                0.532037         0.532037\n",
       "trump executive order                        0.514796         0.514796\n",
       "donald trump                                 0.513967         0.513967\n",
       "bowling green                                0.513868         0.513868\n",
       "morning briefing                            -0.511080         0.511080\n",
       "...                                               ...              ...\n",
       "trump advisers                              -0.000241         0.000241\n",
       "muslim brotherhood terrorist organiza...    -0.000241         0.000241\n",
       "advisers debating order intended            -0.000241         0.000241\n",
       "debating order intended designate           -0.000241         0.000241\n",
       "terrorist organization                      -0.000241         0.000241\n",
       "designate muslim brotherhood terrorist      -0.000241         0.000241\n",
       "designate muslim brotherhood                -0.000241         0.000241\n",
       "designate muslim                            -0.000241         0.000241\n",
       "order intended designate muslim             -0.000241         0.000241\n",
       "order intended designate                    -0.000241         0.000241\n",
       "debating order intended                     -0.000241         0.000241\n",
       "debating order                              -0.000241         0.000241\n",
       "order intended                              -0.000241         0.000241\n",
       "chicken playing america beautiful           -0.000161         0.000161\n",
       "keyboard new national bird                  -0.000161         0.000161\n",
       "beautiful keyboard new national             -0.000161         0.000161\n",
       "beautiful keyboard new                      -0.000161         0.000161\n",
       "beautiful keyboard                          -0.000161         0.000161\n",
       "keyboard new national                       -0.000161         0.000161\n",
       "america beautiful keyboard new              -0.000161         0.000161\n",
       "national bird                               -0.000161         0.000161\n",
       "america beautiful keyboard                  -0.000161         0.000161\n",
       "playing america                             -0.000161         0.000161\n",
       "playing america beautiful                   -0.000161         0.000161\n",
       "playing america beautiful keyboard          -0.000161         0.000161\n",
       "new national bird                           -0.000161         0.000161\n",
       "new national                                -0.000161         0.000161\n",
       "chicken playing                             -0.000161         0.000161\n",
       "chicken playing america                     -0.000161         0.000161\n",
       "keyboard new                                -0.000161         0.000161\n",
       "\n",
       "[53518 rows x 2 columns]"
      ]
     },
     "execution_count": 513,
     "metadata": {},
     "output_type": "execute_result"
    }
   ],
   "source": [
    "#looking at coefficients \n",
    "log_get_co(lr_xtt5, df_lr_xtt5train_tfidf)"
   ]
  },
  {
   "cell_type": "code",
   "execution_count": 467,
   "metadata": {
    "collapsed": false
   },
   "outputs": [],
   "source": [
    "lrtt_features_df = log_get_co(lr_xtt5, df_lr_xtt5train_tfidf)\n",
    "lrtt_topfeatures_df = lrtt_features_df[lrtt_features_df.Abs_Coefficient >=.6]\n"
   ]
  },
  {
   "cell_type": "code",
   "execution_count": 502,
   "metadata": {
    "collapsed": false
   },
   "outputs": [],
   "source": [
    "#log_get_co(lr_xtv75, df_lr75)"
   ]
  },
  {
   "cell_type": "code",
   "execution_count": null,
   "metadata": {
    "collapsed": true
   },
   "outputs": [],
   "source": []
  },
  {
   "cell_type": "code",
   "execution_count": 503,
   "metadata": {
    "collapsed": true
   },
   "outputs": [],
   "source": [
    "lr_xtv75_features = log_get_co(lr_xtv75, df_lr75)\n",
    "lr_xtv75_topfeatures = lr_xtv75_features[lr_xtv75_features.Abs_Coefficient >=.9]"
   ]
  },
  {
   "cell_type": "code",
   "execution_count": 504,
   "metadata": {
    "collapsed": true
   },
   "outputs": [],
   "source": [
    "lr_xtv75_topfeatures.to_csv('/Users/davidbeightol/Documents/DSI/data_sets/lrtt75_topfeatures.csv')"
   ]
  },
  {
   "cell_type": "code",
   "execution_count": 468,
   "metadata": {
    "collapsed": true
   },
   "outputs": [],
   "source": [
    "lrtt_topfeatures_df.to_csv('/Users/davidbeightol/Documents/DSI/data_sets/lrtt_topfeatures.csv')"
   ]
  },
  {
   "cell_type": "code",
   "execution_count": 438,
   "metadata": {
    "collapsed": false
   },
   "outputs": [],
   "source": [
    "lr_topfeatures_df = lr_features_df[lr_features_df.Abs_Coefficient >=.75]"
   ]
  },
  {
   "cell_type": "code",
   "execution_count": 417,
   "metadata": {
    "collapsed": false
   },
   "outputs": [],
   "source": [
    "log_get_co(glr, X_train75)"
   ]
  },
  {
   "cell_type": "code",
   "execution_count": 15,
   "metadata": {
    "collapsed": false
   },
   "outputs": [],
   "source": [
    "lr = LogisticRegression(penalty='l2')"
   ]
  },
  {
   "cell_type": "code",
   "execution_count": 16,
   "metadata": {
    "collapsed": false
   },
   "outputs": [],
   "source": [
    "#lr.feature_importances_"
   ]
  },
  {
   "cell_type": "code",
   "execution_count": 17,
   "metadata": {
    "collapsed": true
   },
   "outputs": [],
   "source": [
    "\n",
    "import matplotlib\n",
    "import numpy as np\n",
    "import matplotlib.pyplot as plt\n",
    "%matplotlib inline\n",
    "\n",
    "from sklearn import linear_model, decomposition, datasets\n",
    "from sklearn.pipeline import Pipeline\n",
    "from sklearn.model_selection import GridSearchCV\n",
    "\n",
    "logistic = linear_model.LogisticRegression()\n",
    "\n",
    "pca = decomposition.PCA()\n",
    "pipe = Pipeline(steps=[('pca', pca), ('logistic', logistic)])\n",
    "\n",
    "X_digits = X_train\n",
    "y_digits = y_train"
   ]
  },
  {
   "cell_type": "code",
   "execution_count": 10,
   "metadata": {
    "collapsed": true
   },
   "outputs": [],
   "source": [
    "rfc = RandomForestClassifier(criterion = 'entropy')"
   ]
  },
  {
   "cell_type": "code",
   "execution_count": 27,
   "metadata": {
    "collapsed": false
   },
   "outputs": [],
   "source": [
    "#rfc.feature_importances_"
   ]
  },
  {
   "cell_type": "code",
   "execution_count": 28,
   "metadata": {
    "collapsed": true
   },
   "outputs": [],
   "source": [
    "from sklearn.feature_selection import SelectFromModel"
   ]
  },
  {
   "cell_type": "code",
   "execution_count": 29,
   "metadata": {
    "collapsed": true
   },
   "outputs": [],
   "source": [
    "rfc_reduced = SelectFromModel(rfc, prefit=True)"
   ]
  },
  {
   "cell_type": "code",
   "execution_count": 32,
   "metadata": {
    "collapsed": false
   },
   "outputs": [],
   "source": [
    "X_train_new = rfc_reduced.transform(X_train)"
   ]
  },
  {
   "cell_type": "code",
   "execution_count": 33,
   "metadata": {
    "collapsed": true
   },
   "outputs": [],
   "source": [
    "X_test_new = rfc_reduced.transform(X_test)"
   ]
  },
  {
   "cell_type": "code",
   "execution_count": 30,
   "metadata": {
    "collapsed": false
   },
   "outputs": [
    {
     "name": "stdout",
     "output_type": "stream",
     "text": [
      "0.747149631722\n",
      "      0    1\n",
      "0  7081  393\n",
      "1  2113  324\n",
      "             precision    recall  f1-score   support\n",
      "\n",
      "          0       0.77      0.95      0.85      7474\n",
      "          1       0.45      0.13      0.21      2437\n",
      "\n",
      "avg / total       0.69      0.75      0.69      9911\n",
      "\n"
     ]
    }
   ],
   "source": [
    "run_model(rfc, X_train75, X_test75, y_train75, y_test75)"
   ]
  },
  {
   "cell_type": "code",
   "execution_count": 16,
   "metadata": {
    "collapsed": true
   },
   "outputs": [],
   "source": [
    "def tree_get_co(model, X):\n",
    "    cos = pd.DataFrame(model.feature_importances_, index = X.columns, columns = ['Coefficient'])\n",
    "    return cos.sort_values('Coefficient', ascending=False)\n"
   ]
  },
  {
   "cell_type": "code",
   "execution_count": 333,
   "metadata": {
    "collapsed": false
   },
   "outputs": [
    {
     "data": {
      "text/html": [
       "<div>\n",
       "<table border=\"1\" class=\"dataframe\">\n",
       "  <thead>\n",
       "    <tr style=\"text-align: right;\">\n",
       "      <th></th>\n",
       "      <th>Coefficient</th>\n",
       "    </tr>\n",
       "  </thead>\n",
       "  <tbody>\n",
       "    <tr>\n",
       "      <th>hour</th>\n",
       "      <td>0.332492</td>\n",
       "    </tr>\n",
       "    <tr>\n",
       "      <th>subjectivity</th>\n",
       "      <td>0.293869</td>\n",
       "    </tr>\n",
       "    <tr>\n",
       "      <th>polarity</th>\n",
       "      <td>0.288094</td>\n",
       "    </tr>\n",
       "    <tr>\n",
       "      <th>Sun</th>\n",
       "      <td>0.021225</td>\n",
       "    </tr>\n",
       "    <tr>\n",
       "      <th>Mon</th>\n",
       "      <td>0.017355</td>\n",
       "    </tr>\n",
       "    <tr>\n",
       "      <th>Thu</th>\n",
       "      <td>0.014343</td>\n",
       "    </tr>\n",
       "    <tr>\n",
       "      <th>Sat</th>\n",
       "      <td>0.012105</td>\n",
       "    </tr>\n",
       "    <tr>\n",
       "      <th>Wed</th>\n",
       "      <td>0.010440</td>\n",
       "    </tr>\n",
       "    <tr>\n",
       "      <th>Tue</th>\n",
       "      <td>0.010078</td>\n",
       "    </tr>\n",
       "  </tbody>\n",
       "</table>\n",
       "</div>"
      ],
      "text/plain": [
       "              Coefficient\n",
       "hour             0.332492\n",
       "subjectivity     0.293869\n",
       "polarity         0.288094\n",
       "Sun              0.021225\n",
       "Mon              0.017355\n",
       "Thu              0.014343\n",
       "Sat              0.012105\n",
       "Wed              0.010440\n",
       "Tue              0.010078"
      ]
     },
     "execution_count": 333,
     "metadata": {},
     "output_type": "execute_result"
    }
   ],
   "source": [
    "tree_get_co(t5rfc, Xt5)"
   ]
  }
 ],
 "metadata": {
  "anaconda-cloud": {},
  "kernelspec": {
   "display_name": "Python [conda root]",
   "language": "python",
   "name": "conda-root-py"
  },
  "language_info": {
   "codemirror_mode": {
    "name": "ipython",
    "version": 2
   },
   "file_extension": ".py",
   "mimetype": "text/x-python",
   "name": "python",
   "nbconvert_exporter": "python",
   "pygments_lexer": "ipython2",
   "version": "2.7.12"
  }
 },
 "nbformat": 4,
 "nbformat_minor": 1
}
