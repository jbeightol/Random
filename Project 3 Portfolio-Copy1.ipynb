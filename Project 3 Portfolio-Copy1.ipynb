{
 "cells": [
  {
   "cell_type": "markdown",
   "metadata": {
    "collapsed": true
   },
   "source": [
    "For this project I attempted to predict the salary of a data science job posting based on other factors in the description including the location, company, and whether certain key words appeared in the title. I scraped job listings from indeed.com in order to build out my data set. \n",
    "\n",
    "Below lets look at which cities had the most  salaried data science job postings on indeed.com: "
   ]
  },
  {
   "cell_type": "code",
   "execution_count": 2,
   "metadata": {
    "collapsed": false,
    "scrolled": true
   },
   "outputs": [
    {
     "data": {
      "text/html": [
       "<div class='tableauPlaceholder' id='viz1488383223157' style='position: relative'><noscript><a href='#'><img alt='Salaried Job Postings in Top Cities  ' src='https:&#47;&#47;public.tableau.com&#47;static&#47;images&#47;Sa&#47;SalariedJobPostingsinTopCities&#47;Sheet3&#47;1_rss.png' style='border: none' /></a></noscript><object class='tableauViz'  style='display:none;'><param name='host_url' value='https%3A%2F%2Fpublic.tableau.com%2F' /> <param name='site_root' value='' /><param name='name' value='SalariedJobPostingsinTopCities&#47;Sheet3' /><param name='tabs' value='no' /><param name='toolbar' value='yes' /><param name='static_image' value='https:&#47;&#47;public.tableau.com&#47;static&#47;images&#47;Sa&#47;SalariedJobPostingsinTopCities&#47;Sheet3&#47;1.png' /> <param name='animate_transition' value='yes' /><param name='display_static_image' value='yes' /><param name='display_spinner' value='yes' /><param name='display_overlay' value='yes' /><param name='display_count' value='yes' /></object></div>                <script type='text/javascript'>                    var divElement = document.getElementById('viz1488383223157');                    var vizElement = divElement.getElementsByTagName('object')[0];                    vizElement.style.width='100%';vizElement.style.height=(divElement.offsetWidth*0.75)+'px';                    var scriptElement = document.createElement('script');                    scriptElement.src = 'https://public.tableau.com/javascripts/api/viz_v1.js';                    vizElement.parentNode.insertBefore(scriptElement, vizElement);                </script>"
      ],
      "text/plain": [
       "<IPython.core.display.HTML object>"
      ]
     },
     "metadata": {},
     "output_type": "display_data"
    }
   ],
   "source": [
    "%%html\n",
    "<div class='tableauPlaceholder' id='viz1488383223157' style='position: relative'><noscript><a href='#'><img alt='Salaried Job Postings in Top Cities  ' src='https:&#47;&#47;public.tableau.com&#47;static&#47;images&#47;Sa&#47;SalariedJobPostingsinTopCities&#47;Sheet3&#47;1_rss.png' style='border: none' /></a></noscript><object class='tableauViz'  style='display:none;'><param name='host_url' value='https%3A%2F%2Fpublic.tableau.com%2F' /> <param name='site_root' value='' /><param name='name' value='SalariedJobPostingsinTopCities&#47;Sheet3' /><param name='tabs' value='no' /><param name='toolbar' value='yes' /><param name='static_image' value='https:&#47;&#47;public.tableau.com&#47;static&#47;images&#47;Sa&#47;SalariedJobPostingsinTopCities&#47;Sheet3&#47;1.png' /> <param name='animate_transition' value='yes' /><param name='display_static_image' value='yes' /><param name='display_spinner' value='yes' /><param name='display_overlay' value='yes' /><param name='display_count' value='yes' /></object></div>                <script type='text/javascript'>                    var divElement = document.getElementById('viz1488383223157');                    var vizElement = divElement.getElementsByTagName('object')[0];                    vizElement.style.width='100%';vizElement.style.height=(divElement.offsetWidth*0.75)+'px';                    var scriptElement = document.createElement('script');                    scriptElement.src = 'https://public.tableau.com/javascripts/api/viz_v1.js';                    vizElement.parentNode.insertBefore(scriptElement, vizElement);                </script>"
   ]
  },
  {
   "cell_type": "markdown",
   "metadata": {},
   "source": [
    "London had the most salaried job postings with 114. Now let's look at a map that shows US data science job postings, as well as information on the median salary for that city. "
   ]
  },
  {
   "cell_type": "code",
   "execution_count": 1,
   "metadata": {
    "collapsed": false
   },
   "outputs": [
    {
     "data": {
      "text/html": [
       "<div class='tableauPlaceholder' id='viz1488378236762' style='position: relative'><noscript><a href='#'><img alt='US Data Science Indeed Postings ' src='https:&#47;&#47;public.tableau.com&#47;static&#47;images&#47;US&#47;USDataSciencePostingsMap&#47;Sheet2&#47;1_rss.png' style='border: none' /></a></noscript><object class='tableauViz'  style='display:none;'><param name='host_url' value='https%3A%2F%2Fpublic.tableau.com%2F' /> <param name='site_root' value='' /><param name='name' value='USDataSciencePostingsMap&#47;Sheet2' /><param name='tabs' value='no' /><param name='toolbar' value='yes' /><param name='static_image' value='https:&#47;&#47;public.tableau.com&#47;static&#47;images&#47;US&#47;USDataSciencePostingsMap&#47;Sheet2&#47;1.png' /> <param name='animate_transition' value='yes' /><param name='display_static_image' value='yes' /><param name='display_spinner' value='yes' /><param name='display_overlay' value='yes' /><param name='display_count' value='yes' /></object></div>                <script type='text/javascript'>                    var divElement = document.getElementById('viz1488378236762');                    var vizElement = divElement.getElementsByTagName('object')[0];                    vizElement.style.width='100%';vizElement.style.height=(divElement.offsetWidth*0.75)+'px';                    var scriptElement = document.createElement('script');                    scriptElement.src = 'https://public.tableau.com/javascripts/api/viz_v1.js';                    vizElement.parentNode.insertBefore(scriptElement, vizElement);                </script>"
      ],
      "text/plain": [
       "<IPython.core.display.HTML object>"
      ]
     },
     "metadata": {},
     "output_type": "display_data"
    }
   ],
   "source": [
    "%%html\n",
    "<div class='tableauPlaceholder' id='viz1488378236762' style='position: relative'><noscript><a href='#'><img alt='US Data Science Indeed Postings ' src='https:&#47;&#47;public.tableau.com&#47;static&#47;images&#47;US&#47;USDataSciencePostingsMap&#47;Sheet2&#47;1_rss.png' style='border: none' /></a></noscript><object class='tableauViz'  style='display:none;'><param name='host_url' value='https%3A%2F%2Fpublic.tableau.com%2F' /> <param name='site_root' value='' /><param name='name' value='USDataSciencePostingsMap&#47;Sheet2' /><param name='tabs' value='no' /><param name='toolbar' value='yes' /><param name='static_image' value='https:&#47;&#47;public.tableau.com&#47;static&#47;images&#47;US&#47;USDataSciencePostingsMap&#47;Sheet2&#47;1.png' /> <param name='animate_transition' value='yes' /><param name='display_static_image' value='yes' /><param name='display_spinner' value='yes' /><param name='display_overlay' value='yes' /><param name='display_count' value='yes' /></object></div>                <script type='text/javascript'>                    var divElement = document.getElementById('viz1488378236762');                    var vizElement = divElement.getElementsByTagName('object')[0];                    vizElement.style.width='100%';vizElement.style.height=(divElement.offsetWidth*0.75)+'px';                    var scriptElement = document.createElement('script');                    scriptElement.src = 'https://public.tableau.com/javascripts/api/viz_v1.js';                    vizElement.parentNode.insertBefore(scriptElement, vizElement);                </script>"
   ]
  },
  {
   "cell_type": "code",
   "execution_count": 3,
   "metadata": {
    "collapsed": false
   },
   "outputs": [
    {
     "data": {
      "text/html": [
       "<table><tbody><tr><th>Word in Job Title</th><th align=\"center\">Logistic Regression Coefficient</th><th align=\"center\">Interpretation</th></tr><tr><td>'Manager' in the Job Title</td><td align=\"center\">.00982</td><td align=\"center\">Roughly 10% more likely to be above the median salary</td></tr><tr><td>\"Senior\" in the Job Title</td><td align=\"Senior\" in the Job Title>.6213</td><td align=\"right\">Roughly 86% more likely to be above the median salary</td></tr><tr><td>\"Scientist\" in the Job Title</td><td align=\"center\">.3736</td><td align=\"right\">Roughly 40% more likely to be above the median salary</td></tr></tbody></table>"
      ],
      "text/plain": [
       "<IPython.core.display.HTML object>"
      ]
     },
     "metadata": {},
     "output_type": "display_data"
    }
   ],
   "source": [
    "%%html \n",
    "<table><tbody><tr><th>Word in Job Title</th><th align=\"center\">Logistic Regression Coefficient</th><th align=\"center\">Interpretation</th></tr><tr><td>'Manager' in the Job Title</td><td align=\"center\">.00982</td><td align=\"center\">Roughly 10% more likely to be above the median salary</td></tr><tr><td>\"Senior\" in the Job Title</td><td align=\"Senior\" in the Job Title>.6213</td><td align=\"right\">Roughly 86% more likely to be above the median salary</td></tr><tr><td>\"Scientist\" in the Job Title</td><td align=\"center\">.3736</td><td align=\"right\">Roughly 40% more likely to be above the median salary</td></tr></tbody></table>"
   ]
  },
  {
   "cell_type": "markdown",
   "metadata": {},
   "source": [
    "The above table is the result of my logistic regression model used to predict whether to predict whether an individual listing would be above or below the median salary. \n",
    "\n",
    "To examine these features in particular I have taken out the location portion of the model. "
   ]
  },
  {
   "cell_type": "code",
   "execution_count": 41,
   "metadata": {
    "collapsed": true
   },
   "outputs": [],
   "source": [
    "import requests\n",
    "import bs4\n",
    "from bs4 import BeautifulSoup\n",
    "import urllib\n",
    "import pandas as pd\n",
    "import re"
   ]
  },
  {
   "cell_type": "code",
   "execution_count": 12,
   "metadata": {
    "collapsed": false
   },
   "outputs": [],
   "source": [
    "#defining a function to grab the elements from the scaper (british version). \n",
    "dfbritish = pd.DataFrame(columns=[\"title\",\"location\",\"company\",\"salary\"])\n",
    "\n",
    "def find_all_british(soup_obj):\n",
    "    for entry in soup_obj.find_all(name = 'div', attrs = {'class':' row result'}):\n",
    "        try:\n",
    "            location = entry.find(name='span',attrs = {'class':'location'}).text\n",
    "        except: \n",
    "            location = 'NA'\n",
    "        try:\n",
    "            company = entry.find(name='span',attrs = {'class':'company'}).text\n",
    "        except:\n",
    "            company = 'NA'\n",
    "        try:\n",
    "            title = entry.find(name='h2', attrs = {'class':'jobtitle'}).text\n",
    "        except:\n",
    "            title = 'NA'\n",
    "        try:\n",
    "            salary = entry.find(name='td', attrs = {'class':'snip'}).find('nobr').renderContents()\n",
    "        except:\n",
    "            salary = 'NA'\n",
    "        #add information to the data frame \n",
    "        dfbritish.loc[len(dfbritish)]=[title, location, company, salary]"
   ]
  },
  {
   "cell_type": "code",
   "execution_count": 14,
   "metadata": {
    "collapsed": false
   },
   "outputs": [],
   "source": [
    "#defining a function to grab the elements from the scaper. \n",
    "dflarge = pd.DataFrame(columns=[\"title\",\"location\",\"company\",\"salary\"])\n",
    "\n",
    "def find_all_large(soup_obj):\n",
    "    for entry in soup_obj.find_all(name = 'div', attrs = {'class':' row result'}):\n",
    "        try:\n",
    "            location = entry.find(name='span',attrs = {'class':'location'}).text\n",
    "        except: \n",
    "            location = 'NA'\n",
    "        try:\n",
    "            company = entry.find(name='span',attrs = {'class':'company'}).text\n",
    "        except:\n",
    "            company = 'NA'\n",
    "        try:\n",
    "            title = entry.find(name='h2', attrs = {'class':'jobtitle'}).text\n",
    "        except:\n",
    "            title = 'NA'\n",
    "        try:\n",
    "            salary = entry.find(name='td', attrs = {'class':'snip'}).find('nobr').renderContents()\n",
    "        except:\n",
    "            salary = 'NA'\n",
    "        #add information to the data frame \n",
    "        dflarge.loc[len(dflarge)]=[title, location, company, salary]"
   ]
  },
  {
   "cell_type": "code",
   "execution_count": 28,
   "metadata": {
    "collapsed": true
   },
   "outputs": [],
   "source": [
    "#defining a function to grab the elements from the scaper. \n",
    "dfmedium = pd.DataFrame(columns=[\"title\",\"location\",\"company\",\"salary\"])\n",
    "\n",
    "def find_all_medium(soup_obj):\n",
    "    for entry in soup_obj.find_all(name = 'div', attrs = {'class':' row result'}):\n",
    "        try:\n",
    "            location = entry.find(name='span',attrs = {'class':'location'}).text\n",
    "        except: \n",
    "            location = 'NA'\n",
    "        try:\n",
    "            company = entry.find(name='span',attrs = {'class':'company'}).text\n",
    "        except:\n",
    "            company = 'NA'\n",
    "        try:\n",
    "            title = entry.find(name='h2', attrs = {'class':'jobtitle'}).text\n",
    "        except:\n",
    "            title = 'NA'\n",
    "        try:\n",
    "            salary = entry.find(name='td', attrs = {'class':'snip'}).find('nobr').renderContents()\n",
    "        except:\n",
    "            salary = 'NA'\n",
    "        #add information to the data frame \n",
    "        dfmedium.loc[len(dfmedium)]=[title, location, company, salary]"
   ]
  },
  {
   "cell_type": "code",
   "execution_count": 23,
   "metadata": {
    "collapsed": false
   },
   "outputs": [],
   "source": [
    "#grabbing URLs for large cities \n",
    "\n",
    "max_results_per_city = 2000 # Set this to a high-value (5000) to generate more results. \n",
    "# Crawling more results, will also take much longer. First test your code on a small number of results and then expand.\n",
    "\n",
    "large_results = []\n",
    "\n",
    "for city in set(['New+York', 'Chicago', 'San+Francisco', 'Austin', 'Seattle', \n",
    "    'Los+Angeles']):\n",
    "    url_template = \"http://www.indeed.com/jobs?q=data+scientist+%2420%2C000&l=\"+city+\"&start=\"\n",
    "    for start in range(0, max_results_per_city, 10):\n",
    "        # Grab the results from the request (as above)\n",
    "        result = url_template+str(start)\n",
    "        # Append to the full set of results\n",
    "        large_results.append(result)\n",
    "        pass"
   ]
  },
  {
   "cell_type": "code",
   "execution_count": 7,
   "metadata": {
    "collapsed": true
   },
   "outputs": [],
   "source": [
    "#for british cities \n",
    "\n",
    "max_results_per_city = 1000 # Set this to a high-value (5000) to generate more results. \n",
    "# Crawling more results, will also take much longer. First test your code on a small number of results and then expand.\n",
    "\n",
    "british_results = []\n",
    "british_city = []\n",
    "for n,city in enumerate(set(['London','Birmingham','Manchester','Glasgow'])):\n",
    "    url_template = \"http://www.indeed.co.uk/jobs?q=data+scientist+%2420%2C000&l=\"+city+\"&start=\"\n",
    "    for start in range(0, max_results_per_city, 10):\n",
    "        # Grab the results from the request (as above)\n",
    "        result = url_template+str(start)\n",
    "        # Append to the full set of results\n",
    "        british_results.append(result)\n",
    "        british_city.append(city)\n",
    "        pass"
   ]
  },
  {
   "cell_type": "code",
   "execution_count": 25,
   "metadata": {
    "collapsed": true
   },
   "outputs": [],
   "source": [
    "#medium sized cities \n",
    "\n",
    "max_results_per_city = 500 # Set this to a high-value (5000) to generate more results. \n",
    "# Crawling more results, will also take much longer. First test your code on a small number of results and then expand.\n",
    "\n",
    "medium_results = []\n",
    "\n",
    "for city in set(['Philadelphia', 'Atlanta', 'Dallas', 'Pittsburgh', \n",
    "    'Portland', 'Phoenix', 'Denver', 'Houston', 'Miami', 'Washington%2C+DC']):\n",
    "    url_template = \"http://www.indeed.com/jobs?q=data+scientist+%2420%2C000&l=\"+city+\"&start=\"\n",
    "    for start in range(0, max_results_per_city, 10):\n",
    "        # Grab the results from the request (as above)\n",
    "        result = url_template+str(start)\n",
    "        # Append to the full set of results\n",
    "        medium_results.append(result)\n",
    "        pass\n"
   ]
  },
  {
   "cell_type": "code",
   "execution_count": 30,
   "metadata": {
    "collapsed": true
   },
   "outputs": [],
   "source": [
    "#defining a function to grab certain salaries  \n",
    "\n",
    "def grab_salary(df):\n",
    "    return df[df.salary.str.contains('year') | df.salary.str.contains('month')]\n",
    "#defining a function to clean columns\n",
    "\n",
    "def clean_company(df):\n",
    "    df['company'] = df.company.str.replace(\"\\n\",\"\")\n",
    "    return df\n",
    "\n",
    "def clean_title(df):\n",
    "    df['title'] = df.title.str.replace(\"\\n\",\"\")\n",
    "    return df\n",
    "\n",
    "def clean_location_text(column):\n",
    "    head, sep, tail = column.partition(',')\n",
    "    return head\n",
    "\n",
    "def clean_location(df):\n",
    "    df['location'] = df['location'].apply(clean_location_text)\n",
    "    return df "
   ]
  },
  {
   "cell_type": "code",
   "execution_count": 38,
   "metadata": {
    "collapsed": false,
    "focus": false,
    "id": "58533e57-f86b-494a-b841-e7b59c6229c6"
   },
   "outputs": [],
   "source": [
    "## YOUR CODE HERE\n",
    "\n",
    "def convert_salary(column):\n",
    "    if '−' in column:\n",
    "        head, sep, tail = column.partition('−')\n",
    "        match = re.search(r'[\\d,]+', head)\n",
    "        if match:\n",
    "            head = match.group()\n",
    "            head = float(head.replace(',',''))\n",
    "        match = re.search(r'[\\d,]+', tail)\n",
    "        if match:\n",
    "            tail = match.group()\n",
    "            tail = float(tail.replace(',',''))\n",
    "        return (head + tail)/2\n",
    "    else:\n",
    "        match = re.search(r'[\\d,]+', column)\n",
    "        return float(match.group().replace(',',''))\n"
   ]
  },
  {
   "cell_type": "code",
   "execution_count": 39,
   "metadata": {
    "collapsed": true
   },
   "outputs": [],
   "source": [
    "def clean_salary(df):\n",
    "    df['salary'] = df['salary'].apply(convert_salary)\n",
    "    return df\n",
    "\n",
    "def convert_month(column):\n",
    "    if column <= 25000:\n",
    "        return (column * 12)\n",
    "    else:\n",
    "        return column\n",
    "    \n",
    "def convert_month_brit(column):\n",
    "    if column <= 15000:\n",
    "        return (column * 12)\n",
    "    else:\n",
    "        return column\n",
    "    \n",
    "def apply_brit_conversion(df):\n",
    "    df['salary'] = df['salary'].apply(convert_month_brit)\n",
    "    return df\n",
    "\n",
    "def apply_m_conversion(df):\n",
    "    df['salary'] = df['salary'].apply(convert_month)\n",
    "    return df "
   ]
  }
 ],
 "metadata": {
  "anaconda-cloud": {},
  "kernelspec": {
   "display_name": "Python [default]",
   "language": "python",
   "name": "python2"
  },
  "language_info": {
   "codemirror_mode": {
    "name": "ipython",
    "version": 2
   },
   "file_extension": ".py",
   "mimetype": "text/x-python",
   "name": "python",
   "nbconvert_exporter": "python",
   "pygments_lexer": "ipython2",
   "version": "2.7.12"
  }
 },
 "nbformat": 4,
 "nbformat_minor": 0
}
